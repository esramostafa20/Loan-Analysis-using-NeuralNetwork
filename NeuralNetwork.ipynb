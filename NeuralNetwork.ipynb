{
  "nbformat": 4,
  "nbformat_minor": 0,
  "metadata": {
    "colab": {
      "name": "NeuralNetwork.ipynb",
      "provenance": []
    },
    "kernelspec": {
      "name": "python3",
      "display_name": "Python 3"
    },
    "language_info": {
      "name": "python"
    }
  },
  "cells": [
    {
      "cell_type": "markdown",
      "metadata": {
        "id": "ERyN2WjBZ8Wz"
      },
      "source": [
        "# 1. Importing The Necessary libraries\n"
      ]
    },
    {
      "cell_type": "code",
      "metadata": {
        "id": "PpA_4s7bZzhA"
      },
      "source": [
        "import os\n",
        "import pandas as pd\n",
        "import numpy as np\n",
        "import matplotlib.pyplot as plt\n",
        "import seaborn as sns\n",
        "from sklearn.model_selection import train_test_split\n",
        "from sklearn.preprocessing import MinMaxScaler\n",
        "from sklearn.metrics import classification_report, confusion_matrix\n",
        "import tensorflow as tf\n",
        "from tensorflow.keras.models import Sequential\n",
        "from tensorflow.keras.layers import Dense, Dropout\n",
        "\n",
        "\n",
        "%matplotlib inline"
      ],
      "execution_count": null,
      "outputs": []
    },
    {
      "cell_type": "markdown",
      "metadata": {
        "id": "Okge6AlcaDMX"
      },
      "source": [
        "# 2. Importing my Data Set"
      ]
    },
    {
      "cell_type": "code",
      "metadata": {
        "colab": {
          "base_uri": "https://localhost:8080/"
        },
        "id": "WRRBA-NRaAD7",
        "outputId": "4a257cde-e02c-4765-b5b6-5c8bfb63958c"
      },
      "source": [
        "# I'm using this cell of code to access the data file in the drive\n",
        "from google.colab import drive\n",
        "drive.mount('/content/drive/')"
      ],
      "execution_count": null,
      "outputs": [
        {
          "output_type": "stream",
          "text": [
            "Mounted at /content/drive/\n"
          ],
          "name": "stdout"
        }
      ]
    },
    {
      "cell_type": "code",
      "metadata": {
        "colab": {
          "base_uri": "https://localhost:8080/",
          "height": 241
        },
        "id": "QNUDqHORaFqP",
        "outputId": "0c77db2e-ebe7-455a-cd46-5f1927dbbf49"
      },
      "source": [
        "df = pd.read_csv('/content/drive/MyDrive/FinData.csv')\n",
        "df.head(5)"
      ],
      "execution_count": null,
      "outputs": [
        {
          "output_type": "execute_result",
          "data": {
            "text/html": [
              "<div>\n",
              "<style scoped>\n",
              "    .dataframe tbody tr th:only-of-type {\n",
              "        vertical-align: middle;\n",
              "    }\n",
              "\n",
              "    .dataframe tbody tr th {\n",
              "        vertical-align: top;\n",
              "    }\n",
              "\n",
              "    .dataframe thead th {\n",
              "        text-align: right;\n",
              "    }\n",
              "</style>\n",
              "<table border=\"1\" class=\"dataframe\">\n",
              "  <thead>\n",
              "    <tr style=\"text-align: right;\">\n",
              "      <th></th>\n",
              "      <th>Unnamed: 0</th>\n",
              "      <th>Unnamed: 0.1</th>\n",
              "      <th>loan_amnt</th>\n",
              "      <th>int_rate</th>\n",
              "      <th>installment</th>\n",
              "      <th>annual_inc</th>\n",
              "      <th>dti</th>\n",
              "      <th>delinq_2yrs</th>\n",
              "      <th>fico_range_low</th>\n",
              "      <th>fico_range_high</th>\n",
              "      <th>total_acc</th>\n",
              "      <th>total_pymnt</th>\n",
              "      <th>total_rec_prncp</th>\n",
              "      <th>total_rec_int</th>\n",
              "      <th>tot_cur_bal</th>\n",
              "      <th>total_bal_il</th>\n",
              "      <th>total_rev_hi_lim</th>\n",
              "      <th>tot_hi_cred_lim</th>\n",
              "      <th>total_bal_ex_mort</th>\n",
              "      <th>total_bc_limit</th>\n",
              "      <th>total_il_high_credit_limit</th>\n",
              "      <th>mths_since_recent_bc</th>\n",
              "      <th>mths_since_recent_inq</th>\n",
              "      <th>mths_since_rcnt_il</th>\n",
              "      <th>mths_since_last_delinq</th>\n",
              "      <th>mo_sin_old_il_acct</th>\n",
              "      <th>mo_sin_old_rev_tl_op</th>\n",
              "      <th>mo_sin_rcnt_rev_tl_op</th>\n",
              "      <th>mo_sin_rcnt_tl</th>\n",
              "      <th>open_act_il</th>\n",
              "      <th>open_il_12m</th>\n",
              "      <th>open_il_24m</th>\n",
              "      <th>il_util</th>\n",
              "      <th>bc_util</th>\n",
              "      <th>all_util</th>\n",
              "      <th>revol_util</th>\n",
              "      <th>open_rv_12m</th>\n",
              "      <th>open_rv_24m</th>\n",
              "      <th>max_bal_bc</th>\n",
              "      <th>avg_cur_bal</th>\n",
              "      <th>bc_open_to_buy</th>\n",
              "      <th>recoveries</th>\n",
              "      <th>num_accts_ever_120_pd</th>\n",
              "      <th>num_actv_bc_tl</th>\n",
              "      <th>num_actv_rev_tl</th>\n",
              "      <th>num_bc_sats</th>\n",
              "      <th>num_bc_tl</th>\n",
              "      <th>num_il_tl</th>\n",
              "      <th>num_op_rev_tl</th>\n",
              "      <th>num_rev_accts</th>\n",
              "      <th>num_rev_tl_bal_gt_0</th>\n",
              "      <th>num_sats</th>\n",
              "      <th>num_tl_op_past_12m</th>\n",
              "      <th>pct_tl_nvr_dlq</th>\n",
              "      <th>percent_bc_gt_75</th>\n",
              "      <th>loan_paid</th>\n",
              "      <th>Joint App</th>\n",
              "      <th>MORTGAGE</th>\n",
              "      <th>OWN</th>\n",
              "      <th>RENT</th>\n",
              "      <th>B</th>\n",
              "      <th>C</th>\n",
              "      <th>D</th>\n",
              "      <th>E</th>\n",
              "      <th>F</th>\n",
              "      <th>G</th>\n",
              "      <th>Source Verified</th>\n",
              "      <th>Verified</th>\n",
              "      <th>credit_card</th>\n",
              "      <th>debt_consolidation</th>\n",
              "      <th>home_improvement</th>\n",
              "      <th>house</th>\n",
              "      <th>major_purchase</th>\n",
              "      <th>medical</th>\n",
              "      <th>moving</th>\n",
              "      <th>other</th>\n",
              "      <th>small_business</th>\n",
              "      <th>vacation</th>\n",
              "      <th>w</th>\n",
              "    </tr>\n",
              "  </thead>\n",
              "  <tbody>\n",
              "    <tr>\n",
              "      <th>0</th>\n",
              "      <td>0</td>\n",
              "      <td>0</td>\n",
              "      <td>35000</td>\n",
              "      <td>0.1505</td>\n",
              "      <td>1214.15</td>\n",
              "      <td>110000.0</td>\n",
              "      <td>9.13</td>\n",
              "      <td>0</td>\n",
              "      <td>680</td>\n",
              "      <td>684</td>\n",
              "      <td>10</td>\n",
              "      <td>43573.779596</td>\n",
              "      <td>35000.00</td>\n",
              "      <td>8573.78</td>\n",
              "      <td>22049</td>\n",
              "      <td>9213.0</td>\n",
              "      <td>22800</td>\n",
              "      <td>46565</td>\n",
              "      <td>22049</td>\n",
              "      <td>18700</td>\n",
              "      <td>23765</td>\n",
              "      <td>14.0</td>\n",
              "      <td>2.0</td>\n",
              "      <td>1.0</td>\n",
              "      <td>34.0</td>\n",
              "      <td>40.0</td>\n",
              "      <td>46</td>\n",
              "      <td>13</td>\n",
              "      <td>1</td>\n",
              "      <td>2.0</td>\n",
              "      <td>1.0</td>\n",
              "      <td>1.0</td>\n",
              "      <td>39.0</td>\n",
              "      <td>57.4</td>\n",
              "      <td>47.0</td>\n",
              "      <td>0.563</td>\n",
              "      <td>0.0</td>\n",
              "      <td>4.0</td>\n",
              "      <td>5948.0</td>\n",
              "      <td>3150.0</td>\n",
              "      <td>7975.0</td>\n",
              "      <td>0.00</td>\n",
              "      <td>1</td>\n",
              "      <td>4</td>\n",
              "      <td>5</td>\n",
              "      <td>4</td>\n",
              "      <td>4</td>\n",
              "      <td>2</td>\n",
              "      <td>5</td>\n",
              "      <td>6</td>\n",
              "      <td>5</td>\n",
              "      <td>7</td>\n",
              "      <td>1</td>\n",
              "      <td>80.0</td>\n",
              "      <td>0.0</td>\n",
              "      <td>1</td>\n",
              "      <td>0</td>\n",
              "      <td>0</td>\n",
              "      <td>0</td>\n",
              "      <td>1</td>\n",
              "      <td>0</td>\n",
              "      <td>1</td>\n",
              "      <td>0</td>\n",
              "      <td>0</td>\n",
              "      <td>0</td>\n",
              "      <td>0</td>\n",
              "      <td>0</td>\n",
              "      <td>1</td>\n",
              "      <td>0</td>\n",
              "      <td>1</td>\n",
              "      <td>0</td>\n",
              "      <td>0</td>\n",
              "      <td>0</td>\n",
              "      <td>0</td>\n",
              "      <td>0</td>\n",
              "      <td>0</td>\n",
              "      <td>0</td>\n",
              "      <td>0</td>\n",
              "      <td>1</td>\n",
              "    </tr>\n",
              "    <tr>\n",
              "      <th>1</th>\n",
              "      <td>1</td>\n",
              "      <td>3</td>\n",
              "      <td>16000</td>\n",
              "      <td>0.1903</td>\n",
              "      <td>586.74</td>\n",
              "      <td>58000.0</td>\n",
              "      <td>29.05</td>\n",
              "      <td>0</td>\n",
              "      <td>670</td>\n",
              "      <td>674</td>\n",
              "      <td>34</td>\n",
              "      <td>20685.951468</td>\n",
              "      <td>16000.00</td>\n",
              "      <td>4685.95</td>\n",
              "      <td>43001</td>\n",
              "      <td>22068.0</td>\n",
              "      <td>24100</td>\n",
              "      <td>53705</td>\n",
              "      <td>43001</td>\n",
              "      <td>24100</td>\n",
              "      <td>29605</td>\n",
              "      <td>2.0</td>\n",
              "      <td>5.0</td>\n",
              "      <td>16.0</td>\n",
              "      <td>68.0</td>\n",
              "      <td>119.0</td>\n",
              "      <td>321</td>\n",
              "      <td>2</td>\n",
              "      <td>2</td>\n",
              "      <td>2.0</td>\n",
              "      <td>0.0</td>\n",
              "      <td>2.0</td>\n",
              "      <td>75.0</td>\n",
              "      <td>86.9</td>\n",
              "      <td>80.0</td>\n",
              "      <td>0.869</td>\n",
              "      <td>2.0</td>\n",
              "      <td>3.0</td>\n",
              "      <td>4888.0</td>\n",
              "      <td>4300.0</td>\n",
              "      <td>3167.0</td>\n",
              "      <td>0.00</td>\n",
              "      <td>0</td>\n",
              "      <td>8</td>\n",
              "      <td>8</td>\n",
              "      <td>8</td>\n",
              "      <td>20</td>\n",
              "      <td>4</td>\n",
              "      <td>8</td>\n",
              "      <td>27</td>\n",
              "      <td>8</td>\n",
              "      <td>10</td>\n",
              "      <td>2</td>\n",
              "      <td>95.7</td>\n",
              "      <td>75.0</td>\n",
              "      <td>1</td>\n",
              "      <td>0</td>\n",
              "      <td>0</td>\n",
              "      <td>0</td>\n",
              "      <td>1</td>\n",
              "      <td>0</td>\n",
              "      <td>0</td>\n",
              "      <td>1</td>\n",
              "      <td>0</td>\n",
              "      <td>0</td>\n",
              "      <td>0</td>\n",
              "      <td>1</td>\n",
              "      <td>0</td>\n",
              "      <td>0</td>\n",
              "      <td>1</td>\n",
              "      <td>0</td>\n",
              "      <td>0</td>\n",
              "      <td>0</td>\n",
              "      <td>0</td>\n",
              "      <td>0</td>\n",
              "      <td>0</td>\n",
              "      <td>0</td>\n",
              "      <td>0</td>\n",
              "      <td>1</td>\n",
              "    </tr>\n",
              "    <tr>\n",
              "      <th>2</th>\n",
              "      <td>2</td>\n",
              "      <td>7</td>\n",
              "      <td>16000</td>\n",
              "      <td>0.2000</td>\n",
              "      <td>423.91</td>\n",
              "      <td>38400.0</td>\n",
              "      <td>31.93</td>\n",
              "      <td>0</td>\n",
              "      <td>660</td>\n",
              "      <td>664</td>\n",
              "      <td>36</td>\n",
              "      <td>21919.903154</td>\n",
              "      <td>16000.00</td>\n",
              "      <td>5919.90</td>\n",
              "      <td>52467</td>\n",
              "      <td>24451.0</td>\n",
              "      <td>46500</td>\n",
              "      <td>94156</td>\n",
              "      <td>52467</td>\n",
              "      <td>34400</td>\n",
              "      <td>47656</td>\n",
              "      <td>8.0</td>\n",
              "      <td>5.0</td>\n",
              "      <td>11.0</td>\n",
              "      <td>64.0</td>\n",
              "      <td>146.0</td>\n",
              "      <td>111</td>\n",
              "      <td>8</td>\n",
              "      <td>8</td>\n",
              "      <td>2.0</td>\n",
              "      <td>1.0</td>\n",
              "      <td>7.0</td>\n",
              "      <td>51.0</td>\n",
              "      <td>70.5</td>\n",
              "      <td>56.0</td>\n",
              "      <td>0.602</td>\n",
              "      <td>3.0</td>\n",
              "      <td>5.0</td>\n",
              "      <td>5573.0</td>\n",
              "      <td>3498.0</td>\n",
              "      <td>10161.0</td>\n",
              "      <td>0.00</td>\n",
              "      <td>2</td>\n",
              "      <td>8</td>\n",
              "      <td>10</td>\n",
              "      <td>9</td>\n",
              "      <td>9</td>\n",
              "      <td>19</td>\n",
              "      <td>13</td>\n",
              "      <td>16</td>\n",
              "      <td>10</td>\n",
              "      <td>15</td>\n",
              "      <td>4</td>\n",
              "      <td>87.9</td>\n",
              "      <td>66.7</td>\n",
              "      <td>1</td>\n",
              "      <td>0</td>\n",
              "      <td>1</td>\n",
              "      <td>0</td>\n",
              "      <td>0</td>\n",
              "      <td>0</td>\n",
              "      <td>0</td>\n",
              "      <td>1</td>\n",
              "      <td>0</td>\n",
              "      <td>0</td>\n",
              "      <td>0</td>\n",
              "      <td>0</td>\n",
              "      <td>1</td>\n",
              "      <td>0</td>\n",
              "      <td>1</td>\n",
              "      <td>0</td>\n",
              "      <td>0</td>\n",
              "      <td>0</td>\n",
              "      <td>0</td>\n",
              "      <td>0</td>\n",
              "      <td>0</td>\n",
              "      <td>0</td>\n",
              "      <td>0</td>\n",
              "      <td>1</td>\n",
              "    </tr>\n",
              "    <tr>\n",
              "      <th>3</th>\n",
              "      <td>3</td>\n",
              "      <td>13</td>\n",
              "      <td>5200</td>\n",
              "      <td>0.0944</td>\n",
              "      <td>166.43</td>\n",
              "      <td>115000.0</td>\n",
              "      <td>5.86</td>\n",
              "      <td>1</td>\n",
              "      <td>690</td>\n",
              "      <td>694</td>\n",
              "      <td>24</td>\n",
              "      <td>5678.094115</td>\n",
              "      <td>5200.00</td>\n",
              "      <td>478.09</td>\n",
              "      <td>75281</td>\n",
              "      <td>65426.0</td>\n",
              "      <td>28700</td>\n",
              "      <td>81495</td>\n",
              "      <td>75281</td>\n",
              "      <td>20700</td>\n",
              "      <td>50743</td>\n",
              "      <td>2.0</td>\n",
              "      <td>3.0</td>\n",
              "      <td>12.0</td>\n",
              "      <td>18.0</td>\n",
              "      <td>161.0</td>\n",
              "      <td>203</td>\n",
              "      <td>1</td>\n",
              "      <td>1</td>\n",
              "      <td>3.0</td>\n",
              "      <td>1.0</td>\n",
              "      <td>1.0</td>\n",
              "      <td>98.0</td>\n",
              "      <td>21.9</td>\n",
              "      <td>47.0</td>\n",
              "      <td>0.312</td>\n",
              "      <td>5.0</td>\n",
              "      <td>6.0</td>\n",
              "      <td>3187.0</td>\n",
              "      <td>6273.0</td>\n",
              "      <td>16164.0</td>\n",
              "      <td>0.00</td>\n",
              "      <td>5</td>\n",
              "      <td>3</td>\n",
              "      <td>5</td>\n",
              "      <td>5</td>\n",
              "      <td>6</td>\n",
              "      <td>10</td>\n",
              "      <td>9</td>\n",
              "      <td>13</td>\n",
              "      <td>5</td>\n",
              "      <td>13</td>\n",
              "      <td>7</td>\n",
              "      <td>63.6</td>\n",
              "      <td>0.0</td>\n",
              "      <td>1</td>\n",
              "      <td>0</td>\n",
              "      <td>1</td>\n",
              "      <td>0</td>\n",
              "      <td>0</td>\n",
              "      <td>1</td>\n",
              "      <td>0</td>\n",
              "      <td>0</td>\n",
              "      <td>0</td>\n",
              "      <td>0</td>\n",
              "      <td>0</td>\n",
              "      <td>0</td>\n",
              "      <td>0</td>\n",
              "      <td>0</td>\n",
              "      <td>0</td>\n",
              "      <td>0</td>\n",
              "      <td>0</td>\n",
              "      <td>0</td>\n",
              "      <td>0</td>\n",
              "      <td>0</td>\n",
              "      <td>1</td>\n",
              "      <td>0</td>\n",
              "      <td>0</td>\n",
              "      <td>1</td>\n",
              "    </tr>\n",
              "    <tr>\n",
              "      <th>4</th>\n",
              "      <td>4</td>\n",
              "      <td>20</td>\n",
              "      <td>9575</td>\n",
              "      <td>0.1709</td>\n",
              "      <td>341.81</td>\n",
              "      <td>73000.0</td>\n",
              "      <td>30.97</td>\n",
              "      <td>0</td>\n",
              "      <td>710</td>\n",
              "      <td>714</td>\n",
              "      <td>36</td>\n",
              "      <td>4441.910000</td>\n",
              "      <td>2191.25</td>\n",
              "      <td>1208.67</td>\n",
              "      <td>77575</td>\n",
              "      <td>75968.0</td>\n",
              "      <td>11500</td>\n",
              "      <td>125139</td>\n",
              "      <td>77575</td>\n",
              "      <td>10000</td>\n",
              "      <td>113639</td>\n",
              "      <td>14.0</td>\n",
              "      <td>1.0</td>\n",
              "      <td>3.0</td>\n",
              "      <td>30.0</td>\n",
              "      <td>262.0</td>\n",
              "      <td>250</td>\n",
              "      <td>14</td>\n",
              "      <td>3</td>\n",
              "      <td>3.0</td>\n",
              "      <td>1.0</td>\n",
              "      <td>4.0</td>\n",
              "      <td>88.0</td>\n",
              "      <td>16.1</td>\n",
              "      <td>75.0</td>\n",
              "      <td>0.140</td>\n",
              "      <td>0.0</td>\n",
              "      <td>1.0</td>\n",
              "      <td>932.0</td>\n",
              "      <td>11082.0</td>\n",
              "      <td>8393.0</td>\n",
              "      <td>1041.99</td>\n",
              "      <td>4</td>\n",
              "      <td>2</td>\n",
              "      <td>2</td>\n",
              "      <td>3</td>\n",
              "      <td>13</td>\n",
              "      <td>18</td>\n",
              "      <td>4</td>\n",
              "      <td>18</td>\n",
              "      <td>2</td>\n",
              "      <td>7</td>\n",
              "      <td>1</td>\n",
              "      <td>86.1</td>\n",
              "      <td>0.0</td>\n",
              "      <td>0</td>\n",
              "      <td>0</td>\n",
              "      <td>1</td>\n",
              "      <td>0</td>\n",
              "      <td>0</td>\n",
              "      <td>0</td>\n",
              "      <td>0</td>\n",
              "      <td>1</td>\n",
              "      <td>0</td>\n",
              "      <td>0</td>\n",
              "      <td>0</td>\n",
              "      <td>0</td>\n",
              "      <td>1</td>\n",
              "      <td>0</td>\n",
              "      <td>0</td>\n",
              "      <td>1</td>\n",
              "      <td>0</td>\n",
              "      <td>0</td>\n",
              "      <td>0</td>\n",
              "      <td>0</td>\n",
              "      <td>0</td>\n",
              "      <td>0</td>\n",
              "      <td>0</td>\n",
              "      <td>1</td>\n",
              "    </tr>\n",
              "  </tbody>\n",
              "</table>\n",
              "</div>"
            ],
            "text/plain": [
              "   Unnamed: 0  Unnamed: 0.1  loan_amnt  ...  small_business  vacation  w\n",
              "0           0             0      35000  ...               0         0  1\n",
              "1           1             3      16000  ...               0         0  1\n",
              "2           2             7      16000  ...               0         0  1\n",
              "3           3            13       5200  ...               0         0  1\n",
              "4           4            20       9575  ...               0         0  1\n",
              "\n",
              "[5 rows x 79 columns]"
            ]
          },
          "metadata": {
            "tags": []
          },
          "execution_count": 7
        }
      ]
    },
    {
      "cell_type": "code",
      "metadata": {
        "colab": {
          "base_uri": "https://localhost:8080/"
        },
        "id": "Gd5njz9iaV6k",
        "outputId": "04e58691-3c8b-4162-9100-0cc6762a2793"
      },
      "source": [
        "df.shape"
      ],
      "execution_count": null,
      "outputs": [
        {
          "output_type": "execute_result",
          "data": {
            "text/plain": [
              "(15848, 79)"
            ]
          },
          "metadata": {
            "tags": []
          },
          "execution_count": 4
        }
      ]
    },
    {
      "cell_type": "code",
      "metadata": {
        "colab": {
          "base_uri": "https://localhost:8080/"
        },
        "id": "WXC9frKraWPq",
        "outputId": "f01fd767-8c99-4322-d126-4cad97698553"
      },
      "source": [
        "df.drop(['Unnamed: 0' , 'Unnamed: 0.1'], axis=1 , inplace=True)\n",
        "df.shape"
      ],
      "execution_count": null,
      "outputs": [
        {
          "output_type": "execute_result",
          "data": {
            "text/plain": [
              "(15848, 77)"
            ]
          },
          "metadata": {
            "tags": []
          },
          "execution_count": 5
        }
      ]
    },
    {
      "cell_type": "markdown",
      "metadata": {
        "id": "Uu8VbhKkbAJT"
      },
      "source": [
        "# 3. Creating a Neural Network Model\n"
      ]
    },
    {
      "cell_type": "markdown",
      "metadata": {
        "id": "UiXe80kzbGFV"
      },
      "source": [
        "## 3.1 Split the data to Dependant and Independant"
      ]
    },
    {
      "cell_type": "code",
      "metadata": {
        "id": "29dQPCzdbDtz"
      },
      "source": [
        "df = df.copy()\n",
        "\n",
        "X = df.loc[:, df.columns != 'loan_paid'].values\n",
        "y = df.loan_paid.values"
      ],
      "execution_count": null,
      "outputs": []
    },
    {
      "cell_type": "markdown",
      "metadata": {
        "id": "aVQLOXvFbbMk"
      },
      "source": [
        "## 3.2 Split the data into training and test sets"
      ]
    },
    {
      "cell_type": "code",
      "metadata": {
        "colab": {
          "base_uri": "https://localhost:8080/"
        },
        "id": "-EWSSXLhbUvR",
        "outputId": "af968c61-d6c3-41d8-8c5f-fe60ce24ed8b"
      },
      "source": [
        "X_train, X_test, y_train, y_test = train_test_split(X, y, test_size=0.2, random_state=42)\n",
        "scaler = MinMaxScaler()\n",
        "\n",
        "X_train= scaler.fit_transform(X_train)\n",
        "X_test = scaler.transform(X_test)\n",
        "\n",
        "print(X_train.shape)\n",
        "print(X_test.shape)"
      ],
      "execution_count": null,
      "outputs": [
        {
          "output_type": "stream",
          "text": [
            "(12678, 78)\n",
            "(3170, 78)\n"
          ],
          "name": "stdout"
        }
      ]
    },
    {
      "cell_type": "markdown",
      "metadata": {
        "id": "I6kfKCPYb39Z"
      },
      "source": [
        "## 3.3 building the model"
      ]
    },
    {
      "cell_type": "code",
      "metadata": {
        "colab": {
          "base_uri": "https://localhost:8080/"
        },
        "id": "tHWWoG5abV0G",
        "outputId": "a92af688-2260-465e-8396-9a2cd27ffa8c"
      },
      "source": [
        "\n",
        "model = Sequential()\n",
        "model.add(Dense(units=78,activation='relu'))\n",
        "model.add(Dense(units=39,activation='relu'))\n",
        "model.add(Dense(units=19,activation='relu'))\n",
        "model.add(Dense(units=8,activation='relu'))\n",
        "model.add(Dense(units=4,activation='relu'))\n",
        "model.add(Dense(units=1,activation='sigmoid'))\n",
        "\n",
        "model.compile(loss='binary_crossentropy', optimizer='adam', metrics=['accuracy'])\n",
        "model.fit(x=X_train,y=y_train,epochs=50,batch_size=512,validation_data=(X_test, y_test), verbose=1)"
      ],
      "execution_count": null,
      "outputs": [
        {
          "output_type": "stream",
          "text": [
            "Epoch 1/50\n",
            "25/25 [==============================] - 1s 13ms/step - loss: 0.7132 - accuracy: 0.4701 - val_loss: 0.6870 - val_accuracy: 0.7527\n",
            "Epoch 2/50\n",
            "25/25 [==============================] - 0s 6ms/step - loss: 0.6853 - accuracy: 0.7619 - val_loss: 0.6811 - val_accuracy: 0.7527\n",
            "Epoch 3/50\n",
            "25/25 [==============================] - 0s 5ms/step - loss: 0.6793 - accuracy: 0.7585 - val_loss: 0.6753 - val_accuracy: 0.7527\n",
            "Epoch 4/50\n",
            "25/25 [==============================] - 0s 5ms/step - loss: 0.6737 - accuracy: 0.7563 - val_loss: 0.6698 - val_accuracy: 0.7527\n",
            "Epoch 5/50\n",
            "25/25 [==============================] - 0s 5ms/step - loss: 0.6680 - accuracy: 0.7575 - val_loss: 0.6645 - val_accuracy: 0.7527\n",
            "Epoch 6/50\n",
            "25/25 [==============================] - 0s 5ms/step - loss: 0.6617 - accuracy: 0.7566 - val_loss: 0.6319 - val_accuracy: 0.7527\n",
            "Epoch 7/50\n",
            "25/25 [==============================] - 0s 5ms/step - loss: 0.5955 - accuracy: 0.7555 - val_loss: 0.5462 - val_accuracy: 0.7527\n",
            "Epoch 8/50\n",
            "25/25 [==============================] - 0s 5ms/step - loss: 0.5375 - accuracy: 0.7526 - val_loss: 0.5094 - val_accuracy: 0.7527\n",
            "Epoch 9/50\n",
            "25/25 [==============================] - 0s 6ms/step - loss: 0.4920 - accuracy: 0.7552 - val_loss: 0.4091 - val_accuracy: 0.8473\n",
            "Epoch 10/50\n",
            "25/25 [==============================] - 0s 5ms/step - loss: 0.3392 - accuracy: 0.8794 - val_loss: 0.1928 - val_accuracy: 0.9476\n",
            "Epoch 11/50\n",
            "25/25 [==============================] - 0s 6ms/step - loss: 0.1667 - accuracy: 0.9501 - val_loss: 0.1257 - val_accuracy: 0.9536\n",
            "Epoch 12/50\n",
            "25/25 [==============================] - 0s 5ms/step - loss: 0.1054 - accuracy: 0.9693 - val_loss: 0.0851 - val_accuracy: 0.9726\n",
            "Epoch 13/50\n",
            "25/25 [==============================] - 0s 6ms/step - loss: 0.0781 - accuracy: 0.9785 - val_loss: 0.0656 - val_accuracy: 0.9849\n",
            "Epoch 14/50\n",
            "25/25 [==============================] - 0s 6ms/step - loss: 0.0561 - accuracy: 0.9844 - val_loss: 0.0501 - val_accuracy: 0.9852\n",
            "Epoch 15/50\n",
            "25/25 [==============================] - 0s 5ms/step - loss: 0.0412 - accuracy: 0.9881 - val_loss: 0.0411 - val_accuracy: 0.9880\n",
            "Epoch 16/50\n",
            "25/25 [==============================] - 0s 5ms/step - loss: 0.0326 - accuracy: 0.9915 - val_loss: 0.0363 - val_accuracy: 0.9924\n",
            "Epoch 17/50\n",
            "25/25 [==============================] - 0s 6ms/step - loss: 0.0265 - accuracy: 0.9943 - val_loss: 0.0314 - val_accuracy: 0.9890\n",
            "Epoch 18/50\n",
            "25/25 [==============================] - 0s 5ms/step - loss: 0.0238 - accuracy: 0.9954 - val_loss: 0.0290 - val_accuracy: 0.9927\n",
            "Epoch 19/50\n",
            "25/25 [==============================] - 0s 5ms/step - loss: 0.0189 - accuracy: 0.9956 - val_loss: 0.0264 - val_accuracy: 0.9927\n",
            "Epoch 20/50\n",
            "25/25 [==============================] - 0s 6ms/step - loss: 0.0161 - accuracy: 0.9973 - val_loss: 0.0247 - val_accuracy: 0.9931\n",
            "Epoch 21/50\n",
            "25/25 [==============================] - 0s 5ms/step - loss: 0.0131 - accuracy: 0.9976 - val_loss: 0.0238 - val_accuracy: 0.9921\n",
            "Epoch 22/50\n",
            "25/25 [==============================] - 0s 6ms/step - loss: 0.0130 - accuracy: 0.9975 - val_loss: 0.0229 - val_accuracy: 0.9940\n",
            "Epoch 23/50\n",
            "25/25 [==============================] - 0s 5ms/step - loss: 0.0126 - accuracy: 0.9980 - val_loss: 0.0282 - val_accuracy: 0.9896\n",
            "Epoch 24/50\n",
            "25/25 [==============================] - 0s 5ms/step - loss: 0.0125 - accuracy: 0.9969 - val_loss: 0.0219 - val_accuracy: 0.9931\n",
            "Epoch 25/50\n",
            "25/25 [==============================] - 0s 6ms/step - loss: 0.0113 - accuracy: 0.9972 - val_loss: 0.0359 - val_accuracy: 0.9880\n",
            "Epoch 26/50\n",
            "25/25 [==============================] - 0s 5ms/step - loss: 0.0099 - accuracy: 0.9978 - val_loss: 0.0290 - val_accuracy: 0.9909\n",
            "Epoch 27/50\n",
            "25/25 [==============================] - 0s 5ms/step - loss: 0.0084 - accuracy: 0.9988 - val_loss: 0.0212 - val_accuracy: 0.9934\n",
            "Epoch 28/50\n",
            "25/25 [==============================] - 0s 5ms/step - loss: 0.0091 - accuracy: 0.9992 - val_loss: 0.0256 - val_accuracy: 0.9912\n",
            "Epoch 29/50\n",
            "25/25 [==============================] - 0s 6ms/step - loss: 0.0086 - accuracy: 0.9987 - val_loss: 0.0219 - val_accuracy: 0.9918\n",
            "Epoch 30/50\n",
            "25/25 [==============================] - 0s 5ms/step - loss: 0.0092 - accuracy: 0.9989 - val_loss: 0.0230 - val_accuracy: 0.9927\n",
            "Epoch 31/50\n",
            "25/25 [==============================] - 0s 5ms/step - loss: 0.0072 - accuracy: 0.9992 - val_loss: 0.0244 - val_accuracy: 0.9915\n",
            "Epoch 32/50\n",
            "25/25 [==============================] - 0s 5ms/step - loss: 0.0045 - accuracy: 0.9995 - val_loss: 0.0217 - val_accuracy: 0.9937\n",
            "Epoch 33/50\n",
            "25/25 [==============================] - 0s 5ms/step - loss: 0.0095 - accuracy: 0.9980 - val_loss: 0.0313 - val_accuracy: 0.9909\n",
            "Epoch 34/50\n",
            "25/25 [==============================] - 0s 5ms/step - loss: 0.0057 - accuracy: 0.9987 - val_loss: 0.0217 - val_accuracy: 0.9934\n",
            "Epoch 35/50\n",
            "25/25 [==============================] - 0s 5ms/step - loss: 0.0059 - accuracy: 0.9994 - val_loss: 0.0202 - val_accuracy: 0.9937\n",
            "Epoch 36/50\n",
            "25/25 [==============================] - 0s 5ms/step - loss: 0.0043 - accuracy: 0.9997 - val_loss: 0.0222 - val_accuracy: 0.9921\n",
            "Epoch 37/50\n",
            "25/25 [==============================] - 0s 5ms/step - loss: 0.0032 - accuracy: 0.9998 - val_loss: 0.0186 - val_accuracy: 0.9937\n",
            "Epoch 38/50\n",
            "25/25 [==============================] - 0s 6ms/step - loss: 0.0046 - accuracy: 0.9991 - val_loss: 0.0212 - val_accuracy: 0.9927\n",
            "Epoch 39/50\n",
            "25/25 [==============================] - 0s 5ms/step - loss: 0.0053 - accuracy: 0.9997 - val_loss: 0.0265 - val_accuracy: 0.9915\n",
            "Epoch 40/50\n",
            "25/25 [==============================] - 0s 5ms/step - loss: 0.0032 - accuracy: 0.9998 - val_loss: 0.0197 - val_accuracy: 0.9931\n",
            "Epoch 41/50\n",
            "25/25 [==============================] - 0s 5ms/step - loss: 0.0027 - accuracy: 0.9998 - val_loss: 0.0237 - val_accuracy: 0.9924\n",
            "Epoch 42/50\n",
            "25/25 [==============================] - 0s 6ms/step - loss: 0.0031 - accuracy: 0.9999 - val_loss: 0.0221 - val_accuracy: 0.9931\n",
            "Epoch 43/50\n",
            "25/25 [==============================] - 0s 5ms/step - loss: 0.0024 - accuracy: 0.9999 - val_loss: 0.0247 - val_accuracy: 0.9927\n",
            "Epoch 44/50\n",
            "25/25 [==============================] - 0s 6ms/step - loss: 0.0027 - accuracy: 0.9998 - val_loss: 0.0263 - val_accuracy: 0.9921\n",
            "Epoch 45/50\n",
            "25/25 [==============================] - 0s 5ms/step - loss: 0.0022 - accuracy: 0.9999 - val_loss: 0.0231 - val_accuracy: 0.9924\n",
            "Epoch 46/50\n",
            "25/25 [==============================] - 0s 6ms/step - loss: 0.0031 - accuracy: 0.9998 - val_loss: 0.0197 - val_accuracy: 0.9934\n",
            "Epoch 47/50\n",
            "25/25 [==============================] - 0s 5ms/step - loss: 0.0028 - accuracy: 0.9996 - val_loss: 0.0239 - val_accuracy: 0.9927\n",
            "Epoch 48/50\n",
            "25/25 [==============================] - 0s 5ms/step - loss: 0.0030 - accuracy: 0.9998 - val_loss: 0.0252 - val_accuracy: 0.9921\n",
            "Epoch 49/50\n",
            "25/25 [==============================] - 0s 5ms/step - loss: 0.0026 - accuracy: 0.9998 - val_loss: 0.0237 - val_accuracy: 0.9927\n",
            "Epoch 50/50\n",
            "25/25 [==============================] - 0s 5ms/step - loss: 0.0044 - accuracy: 0.9996 - val_loss: 0.0267 - val_accuracy: 0.9921\n"
          ],
          "name": "stdout"
        },
        {
          "output_type": "execute_result",
          "data": {
            "text/plain": [
              "<tensorflow.python.keras.callbacks.History at 0x7f6d21f47910>"
            ]
          },
          "metadata": {
            "tags": []
          },
          "execution_count": 16
        }
      ]
    },
    {
      "cell_type": "markdown",
      "metadata": {
        "id": "7s4CpCSMceKG"
      },
      "source": [
        "## 3.4 Evaluate The Model\n"
      ]
    },
    {
      "cell_type": "code",
      "metadata": {
        "colab": {
          "base_uri": "https://localhost:8080/",
          "height": 282
        },
        "id": "Rl54GsSWb_xM",
        "outputId": "e9f7c25a-6961-4d29-810c-ab8ef28b1de1"
      },
      "source": [
        "losses = pd.DataFrame(model.history.history)\n",
        "losses[['loss','val_loss']].plot()"
      ],
      "execution_count": null,
      "outputs": [
        {
          "output_type": "execute_result",
          "data": {
            "text/plain": [
              "<matplotlib.axes._subplots.AxesSubplot at 0x7f6d1ed54910>"
            ]
          },
          "metadata": {
            "tags": []
          },
          "execution_count": 17
        },
        {
          "output_type": "display_data",
          "data": {
            "image/png": "[encoded data removed]",
            "text/plain": [
              "<Figure size 432x288 with 1 Axes>"
            ]
          },
          "metadata": {
            "tags": [],
            "needs_background": "light"
          }
        }
      ]
    },
    {
      "cell_type": "code",
      "metadata": {
        "colab": {
          "base_uri": "https://localhost:8080/",
          "height": 282
        },
        "id": "55dBglG1cvrG",
        "outputId": "f532ecce-15b6-42e3-db73-f5d49b8ba972"
      },
      "source": [
        "losses[['accuracy','val_accuracy']].plot()\n"
      ],
      "execution_count": null,
      "outputs": [
        {
          "output_type": "execute_result",
          "data": {
            "text/plain": [
              "<matplotlib.axes._subplots.AxesSubplot at 0x7f6d1fc6d490>"
            ]
          },
          "metadata": {
            "tags": []
          },
          "execution_count": 18
        },
        {
          "output_type": "display_data",
          "data": {
            "image/png": "[encoded data removed]",
            "text/plain": [
              "<Figure size 432x288 with 1 Axes>"
            ]
          },
          "metadata": {
            "tags": [],
            "needs_background": "light"
          }
        }
      ]
    },
    {
      "cell_type": "code",
      "metadata": {
        "colab": {
          "base_uri": "https://localhost:8080/"
        },
        "id": "29EOinbZcwdS",
        "outputId": "9ddcae49-fb67-4152-a35c-40d7c24f4643"
      },
      "source": [
        "predictions = (model.predict(X_test) > 0.5).astype(\"int32\")\n",
        "\n",
        "print(classification_report(y_test, predictions))"
      ],
      "execution_count": null,
      "outputs": [
        {
          "output_type": "stream",
          "text": [
            "              precision    recall  f1-score   support\n",
            "\n",
            "           0       1.00      0.97      0.98       784\n",
            "           1       0.99      1.00      0.99      2386\n",
            "\n",
            "    accuracy                           0.99      3170\n",
            "   macro avg       0.99      0.98      0.99      3170\n",
            "weighted avg       0.99      0.99      0.99      3170\n",
            "\n"
          ],
          "name": "stdout"
        }
      ]
    },
    {
      "cell_type": "code",
      "metadata": {
        "colab": {
          "base_uri": "https://localhost:8080/",
          "height": 111
        },
        "id": "Z1s4Yd3Lc1u6",
        "outputId": "72169867-4db2-490e-97f6-4320d2929392"
      },
      "source": [
        "pd.DataFrame(confusion_matrix(y_test, predictions))"
      ],
      "execution_count": null,
      "outputs": [
        {
          "output_type": "execute_result",
          "data": {
            "text/html": [
              "<div>\n",
              "<style scoped>\n",
              "    .dataframe tbody tr th:only-of-type {\n",
              "        vertical-align: middle;\n",
              "    }\n",
              "\n",
              "    .dataframe tbody tr th {\n",
              "        vertical-align: top;\n",
              "    }\n",
              "\n",
              "    .dataframe thead th {\n",
              "        text-align: right;\n",
              "    }\n",
              "</style>\n",
              "<table border=\"1\" class=\"dataframe\">\n",
              "  <thead>\n",
              "    <tr style=\"text-align: right;\">\n",
              "      <th></th>\n",
              "      <th>0</th>\n",
              "      <th>1</th>\n",
              "    </tr>\n",
              "  </thead>\n",
              "  <tbody>\n",
              "    <tr>\n",
              "      <th>0</th>\n",
              "      <td>759</td>\n",
              "      <td>25</td>\n",
              "    </tr>\n",
              "    <tr>\n",
              "      <th>1</th>\n",
              "      <td>0</td>\n",
              "      <td>2386</td>\n",
              "    </tr>\n",
              "  </tbody>\n",
              "</table>\n",
              "</div>"
            ],
            "text/plain": [
              "     0     1\n",
              "0  759    25\n",
              "1    0  2386"
            ]
          },
          "metadata": {
            "tags": []
          },
          "execution_count": 20
        }
      ]
    },
    {
      "cell_type": "markdown",
      "metadata": {
        "id": "Bc4P8Y1KdKou"
      },
      "source": [
        "# 4. simulating a new customer"
      ]
    },
    {
      "cell_type": "code",
      "metadata": {
        "colab": {
          "base_uri": "https://localhost:8080/"
        },
        "id": "nH83-zGEdMve",
        "outputId": "007e0aee-4ca1-43ca-e15d-e03642e8c522"
      },
      "source": [
        "import random\n",
        "\n",
        "df = df.reset_index(drop=True)\n",
        "\n",
        "random.seed(101)\n",
        "random_ind = random.randint(0,len(df))\n",
        "\n",
        "new_customer = df.drop('loan_paid',axis=1).iloc[random_ind]\n",
        "new_customer"
      ],
      "execution_count": null,
      "outputs": [
        {
          "output_type": "execute_result",
          "data": {
            "text/plain": [
              "Unnamed: 0         9521.0000\n",
              "Unnamed: 0.1      46247.0000\n",
              "loan_amnt         16000.0000\n",
              "int_rate              0.1602\n",
              "installment         389.2600\n",
              "                     ...    \n",
              "moving                0.0000\n",
              "other                 0.0000\n",
              "small_business        0.0000\n",
              "vacation              0.0000\n",
              "w                     0.0000\n",
              "Name: 9521, Length: 78, dtype: float64"
            ]
          },
          "metadata": {
            "tags": []
          },
          "execution_count": 21
        }
      ]
    },
    {
      "cell_type": "code",
      "metadata": {
        "colab": {
          "base_uri": "https://localhost:8080/"
        },
        "id": "QEFCeaJhdabA",
        "outputId": "b8c3502b-9c99-4f85-e5e8-4c820bc84777"
      },
      "source": [
        "new_c = scaler.transform(new_customer.values.reshape(1,78))\n",
        "\n",
        "print(f\"model prediction: {(model.predict(new_c) > 0.5).astype('int32')[0][0]}\")"
      ],
      "execution_count": null,
      "outputs": [
        {
          "output_type": "stream",
          "text": [
            "model prediction: 0\n"
          ],
          "name": "stdout"
        }
      ]
    },
    {
      "cell_type": "code",
      "metadata": {
        "colab": {
          "base_uri": "https://localhost:8080/"
        },
        "id": "XKswcmK8da9F",
        "outputId": "d10c131a-fd9d-4c68-9679-b137c8824e0b"
      },
      "source": [
        "# checking if this customer paid his loan\n",
        "\n",
        "df.loc[random_ind, 'loan_paid']"
      ],
      "execution_count": null,
      "outputs": [
        {
          "output_type": "execute_result",
          "data": {
            "text/plain": [
              "0"
            ]
          },
          "metadata": {
            "tags": []
          },
          "execution_count": 25
        }
      ]
    },
    {
      "cell_type": "markdown",
      "metadata": {
        "id": "dO6YoMvcdsXU"
      },
      "source": [
        "# 5. Conclusion \n",
        "#### 1. After applying the Simulation it appears that the Simulated customer wont pay the loan by 99% as my Neural Network has an accuracy of 99%."
      ]
    }
  ]
}